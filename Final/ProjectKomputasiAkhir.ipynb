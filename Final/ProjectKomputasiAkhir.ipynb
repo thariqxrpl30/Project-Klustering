{
 "cells": [
  {
   "cell_type": "markdown",
   "metadata": {
    "id": "GuCeRA6ClCYt"
   },
   "source": [
    "# Project Akhir Komputasi Matematika (Klustering)\n",
    "\n",
    "Library yang harus didownload\n",
    "\n",
    "\n",
    "*   Pandas untuk mengakses dan memanipulasi data\n",
    "*   Numpy untuk operasi Numerik\n",
    "*   Matplotlib untuk memvisualisasikan Data\n",
    "*   Scikit-Learn untuk algoritma PCA, clustering (K-Means), evaluasi\n",
    "    matriks seperti Davies-Bouldin Score dan Silhouette Score.\n",
    "\n",
    "\n",
    "\n"
   ]
  },
  {
   "cell_type": "markdown",
   "metadata": {
    "id": "arLXfLGykYdE"
   },
   "source": [
    "\n",
    "\n",
    "Import Library terlebih **dahulu**"
   ]
  },
  {
   "cell_type": "code",
   "execution_count": 1,
   "metadata": {
    "id": "cHk-U2FvkrWt"
   },
   "outputs": [],
   "source": [
    "import pandas  as pd\n",
    "import numpy as np\n",
    "import matplotlib.pyplot as plt\n",
    "import itertools\n",
    "from sklearn.decomposition import PCA\n",
    "from sklearn.cluster import KMeans\n",
    "from sklearn.metrics import davies_bouldin_score, silhouette_score"
   ]
  },
  {
   "cell_type": "markdown",
   "metadata": {
    "id": "qGPfX6pmmLW9"
   },
   "source": [
    "Memuat dan Mengedit Data\n",
    "\n",
    "\n",
    "Kumpulan data ini dibuat hanya untuk tujuan pembelajaran konsep segmentasi pelanggan, yang juga dikenal sebagai analisis keranjang pasar.\n",
    "File ini berisi informasi dasar (ID, usia, jenis kelamin, pendapatan, skor pengeluaran) tentang pelanggan."
   ]
  },
  {
   "cell_type": "code",
   "execution_count": 2,
   "metadata": {
    "colab": {
     "base_uri": "https://localhost:8080/",
     "height": 373
    },
    "id": "EXdqNFmFmVHM",
    "outputId": "96353621-de63-4fd2-804d-2059289a2e8c"
   },
   "outputs": [
    {
     "data": {
      "text/html": [
       "<div>\n",
       "<style scoped>\n",
       "    .dataframe tbody tr th:only-of-type {\n",
       "        vertical-align: middle;\n",
       "    }\n",
       "\n",
       "    .dataframe tbody tr th {\n",
       "        vertical-align: top;\n",
       "    }\n",
       "\n",
       "    .dataframe thead th {\n",
       "        text-align: right;\n",
       "    }\n",
       "</style>\n",
       "<table border=\"1\" class=\"dataframe\">\n",
       "  <thead>\n",
       "    <tr style=\"text-align: right;\">\n",
       "      <th></th>\n",
       "      <th>CustomerID</th>\n",
       "      <th>Age</th>\n",
       "      <th>Annual Income (k$)</th>\n",
       "      <th>Spending Score (1-100)</th>\n",
       "    </tr>\n",
       "  </thead>\n",
       "  <tbody>\n",
       "    <tr>\n",
       "      <th>count</th>\n",
       "      <td>200.000000</td>\n",
       "      <td>200.000000</td>\n",
       "      <td>200.000000</td>\n",
       "      <td>200.000000</td>\n",
       "    </tr>\n",
       "    <tr>\n",
       "      <th>mean</th>\n",
       "      <td>100.500000</td>\n",
       "      <td>38.850000</td>\n",
       "      <td>60.560000</td>\n",
       "      <td>50.200000</td>\n",
       "    </tr>\n",
       "    <tr>\n",
       "      <th>std</th>\n",
       "      <td>57.879185</td>\n",
       "      <td>13.969007</td>\n",
       "      <td>26.264721</td>\n",
       "      <td>25.823522</td>\n",
       "    </tr>\n",
       "    <tr>\n",
       "      <th>min</th>\n",
       "      <td>1.000000</td>\n",
       "      <td>18.000000</td>\n",
       "      <td>15.000000</td>\n",
       "      <td>1.000000</td>\n",
       "    </tr>\n",
       "    <tr>\n",
       "      <th>25%</th>\n",
       "      <td>50.750000</td>\n",
       "      <td>28.750000</td>\n",
       "      <td>41.500000</td>\n",
       "      <td>34.750000</td>\n",
       "    </tr>\n",
       "    <tr>\n",
       "      <th>50%</th>\n",
       "      <td>100.500000</td>\n",
       "      <td>36.000000</td>\n",
       "      <td>61.500000</td>\n",
       "      <td>50.000000</td>\n",
       "    </tr>\n",
       "    <tr>\n",
       "      <th>75%</th>\n",
       "      <td>150.250000</td>\n",
       "      <td>49.000000</td>\n",
       "      <td>78.000000</td>\n",
       "      <td>73.000000</td>\n",
       "    </tr>\n",
       "    <tr>\n",
       "      <th>max</th>\n",
       "      <td>200.000000</td>\n",
       "      <td>70.000000</td>\n",
       "      <td>137.000000</td>\n",
       "      <td>99.000000</td>\n",
       "    </tr>\n",
       "  </tbody>\n",
       "</table>\n",
       "</div>"
      ],
      "text/plain": [
       "       CustomerID         Age  Annual Income (k$)  Spending Score (1-100)\n",
       "count  200.000000  200.000000          200.000000              200.000000\n",
       "mean   100.500000   38.850000           60.560000               50.200000\n",
       "std     57.879185   13.969007           26.264721               25.823522\n",
       "min      1.000000   18.000000           15.000000                1.000000\n",
       "25%     50.750000   28.750000           41.500000               34.750000\n",
       "50%    100.500000   36.000000           61.500000               50.000000\n",
       "75%    150.250000   49.000000           78.000000               73.000000\n",
       "max    200.000000   70.000000          137.000000               99.000000"
      ]
     },
     "execution_count": 2,
     "metadata": {},
     "output_type": "execute_result"
    }
   ],
   "source": [
    "df = pd.read_csv('Mall_Customers.csv')\n",
    "\n",
    "# Basic statistical details\n",
    "df.describe()"
   ]
  },
  {
   "cell_type": "markdown",
   "metadata": {
    "id": "KrESbCK-mcYB"
   },
   "source": [
    "**Tahap Data Preprocessing**\n",
    "\n",
    "*1. Mengecek Data yang Hilang*\n",
    "\n",
    "Untuk menentukan apakah ada data yang hilang"
   ]
  },
  {
   "cell_type": "code",
   "execution_count": 3,
   "metadata": {
    "id": "H5j7ogbcmemE"
   },
   "outputs": [
    {
     "data": {
      "text/plain": [
       "CustomerID                0\n",
       "Gender                    0\n",
       "Age                       0\n",
       "Annual Income (k$)        0\n",
       "Spending Score (1-100)    0\n",
       "dtype: int64"
      ]
     },
     "execution_count": 3,
     "metadata": {},
     "output_type": "execute_result"
    }
   ],
   "source": [
    "#Missing data check\n",
    "df.isnull().sum()"
   ]
  },
  {
   "cell_type": "markdown",
   "metadata": {
    "id": "7f9aSSFRmis-"
   },
   "source": [
    "*2. Mengecek Apakah ada data Duplikat*\n",
    "\n",
    "kita akan melihat apakah dataset yang kami miliki mempunyai data duplikat, setelah dicek ternyata tidak ada dataset yanng duplikat\n",
    "\n",
    "*3. Data Cleansing*\n",
    "\n",
    "sekarang kita akan melakukan Data Cleansing yaitu pengurangan Baris yang awalnya kita mempunyai 200 baris lalu menjadi 5 baris paling atas"
   ]
  },
  {
   "cell_type": "code",
   "execution_count": 4,
   "metadata": {
    "id": "ox5atTCwm-sa"
   },
   "outputs": [
    {
     "name": "stdout",
     "output_type": "stream",
     "text": [
      "Duplicate Rows Count :  0\n"
     ]
    },
    {
     "data": {
      "text/html": [
       "<div>\n",
       "<style scoped>\n",
       "    .dataframe tbody tr th:only-of-type {\n",
       "        vertical-align: middle;\n",
       "    }\n",
       "\n",
       "    .dataframe tbody tr th {\n",
       "        vertical-align: top;\n",
       "    }\n",
       "\n",
       "    .dataframe thead th {\n",
       "        text-align: right;\n",
       "    }\n",
       "</style>\n",
       "<table border=\"1\" class=\"dataframe\">\n",
       "  <thead>\n",
       "    <tr style=\"text-align: right;\">\n",
       "      <th></th>\n",
       "      <th>CustomerID</th>\n",
       "      <th>Gender</th>\n",
       "      <th>Age</th>\n",
       "      <th>Annual Income (k$)</th>\n",
       "      <th>Spending Score (1-100)</th>\n",
       "    </tr>\n",
       "  </thead>\n",
       "  <tbody>\n",
       "    <tr>\n",
       "      <th>0</th>\n",
       "      <td>1</td>\n",
       "      <td>Male</td>\n",
       "      <td>19</td>\n",
       "      <td>15</td>\n",
       "      <td>39</td>\n",
       "    </tr>\n",
       "    <tr>\n",
       "      <th>1</th>\n",
       "      <td>2</td>\n",
       "      <td>Male</td>\n",
       "      <td>21</td>\n",
       "      <td>15</td>\n",
       "      <td>81</td>\n",
       "    </tr>\n",
       "    <tr>\n",
       "      <th>2</th>\n",
       "      <td>3</td>\n",
       "      <td>Female</td>\n",
       "      <td>20</td>\n",
       "      <td>16</td>\n",
       "      <td>6</td>\n",
       "    </tr>\n",
       "    <tr>\n",
       "      <th>3</th>\n",
       "      <td>4</td>\n",
       "      <td>Female</td>\n",
       "      <td>23</td>\n",
       "      <td>16</td>\n",
       "      <td>77</td>\n",
       "    </tr>\n",
       "    <tr>\n",
       "      <th>4</th>\n",
       "      <td>5</td>\n",
       "      <td>Female</td>\n",
       "      <td>31</td>\n",
       "      <td>17</td>\n",
       "      <td>40</td>\n",
       "    </tr>\n",
       "  </tbody>\n",
       "</table>\n",
       "</div>"
      ],
      "text/plain": [
       "   CustomerID  Gender  Age  Annual Income (k$)  Spending Score (1-100)\n",
       "0           1    Male   19                  15                      39\n",
       "1           2    Male   21                  15                      81\n",
       "2           3  Female   20                  16                       6\n",
       "3           4  Female   23                  16                      77\n",
       "4           5  Female   31                  17                      40"
      ]
     },
     "execution_count": 4,
     "metadata": {},
     "output_type": "execute_result"
    }
   ],
   "source": [
    "# Removing duplicate rows\n",
    "print('Duplicate Rows Count : ', df.duplicated().sum())\n",
    "\n",
    "df=df.drop_duplicates(keep=\"first\")\n",
    "\n",
    "#pandas secara default hanya menampilkan 5 baris pertama dalam dataset\n",
    "df.head()"
   ]
  },
  {
   "cell_type": "markdown",
   "metadata": {
    "id": "ZnggbyM5nO7R"
   },
   "source": [
    "Mengapa hasil setelah preposition hanya 5 baris pertama dalam dataset? karena di kode bagian ini \"df.head()\" pandas secara default hanya menampilan 5 baris pertama saja, jika ingin menampilkan 7 baris maka kita ubah kodenya menjadi ini \"df.head(7)\"\n",
    "\n",
    "*4. Mengubah Kategori Gender menjadi Angka*\n",
    "\n",
    "dibawah ini kita Mengubah Kolom Gender menjadi Kode Numerik dimana Laki laki menjadi 1, Perempuan menjadi 0"
   ]
  },
  {
   "cell_type": "code",
   "execution_count": 5,
   "metadata": {
    "id": "bw8XqomcnP8f"
   },
   "outputs": [
    {
     "data": {
      "text/html": [
       "<div>\n",
       "<style scoped>\n",
       "    .dataframe tbody tr th:only-of-type {\n",
       "        vertical-align: middle;\n",
       "    }\n",
       "\n",
       "    .dataframe tbody tr th {\n",
       "        vertical-align: top;\n",
       "    }\n",
       "\n",
       "    .dataframe thead th {\n",
       "        text-align: right;\n",
       "    }\n",
       "</style>\n",
       "<table border=\"1\" class=\"dataframe\">\n",
       "  <thead>\n",
       "    <tr style=\"text-align: right;\">\n",
       "      <th></th>\n",
       "      <th>CustomerID</th>\n",
       "      <th>Gender</th>\n",
       "      <th>Age</th>\n",
       "      <th>Annual Income (k$)</th>\n",
       "      <th>Spending Score (1-100)</th>\n",
       "    </tr>\n",
       "  </thead>\n",
       "  <tbody>\n",
       "    <tr>\n",
       "      <th>0</th>\n",
       "      <td>1</td>\n",
       "      <td>1</td>\n",
       "      <td>19</td>\n",
       "      <td>15</td>\n",
       "      <td>39</td>\n",
       "    </tr>\n",
       "    <tr>\n",
       "      <th>1</th>\n",
       "      <td>2</td>\n",
       "      <td>1</td>\n",
       "      <td>21</td>\n",
       "      <td>15</td>\n",
       "      <td>81</td>\n",
       "    </tr>\n",
       "    <tr>\n",
       "      <th>2</th>\n",
       "      <td>3</td>\n",
       "      <td>0</td>\n",
       "      <td>20</td>\n",
       "      <td>16</td>\n",
       "      <td>6</td>\n",
       "    </tr>\n",
       "    <tr>\n",
       "      <th>3</th>\n",
       "      <td>4</td>\n",
       "      <td>0</td>\n",
       "      <td>23</td>\n",
       "      <td>16</td>\n",
       "      <td>77</td>\n",
       "    </tr>\n",
       "    <tr>\n",
       "      <th>4</th>\n",
       "      <td>5</td>\n",
       "      <td>0</td>\n",
       "      <td>31</td>\n",
       "      <td>17</td>\n",
       "      <td>40</td>\n",
       "    </tr>\n",
       "  </tbody>\n",
       "</table>\n",
       "</div>"
      ],
      "text/plain": [
       "   CustomerID  Gender  Age  Annual Income (k$)  Spending Score (1-100)\n",
       "0           1       1   19                  15                      39\n",
       "1           2       1   21                  15                      81\n",
       "2           3       0   20                  16                       6\n",
       "3           4       0   23                  16                      77\n",
       "4           5       0   31                  17                      40"
      ]
     },
     "execution_count": 5,
     "metadata": {},
     "output_type": "execute_result"
    }
   ],
   "source": [
    "df[\"Gender\"] = df[\"Gender\"].astype('category').cat.codes\n",
    "df.head()"
   ]
  },
  {
   "cell_type": "markdown",
   "metadata": {
    "id": "0xVjp1Avnjl2"
   },
   "source": [
    "Tahap menentukan jumlah klaster K optimal berdasarkan perubahan (Elbow Curve)\n",
    "\n",
    "K Kluster wajib dicari terlebih dahulu karena nanti waktu digunakan untuk menentukan berapa jumlah kluster didalam algoritma K-Means"
   ]
  },
  {
   "cell_type": "code",
   "execution_count": 6,
   "metadata": {
    "id": "ZS4Xed5lnmHy"
   },
   "outputs": [
    {
     "data": {
      "image/png": "[encoded data removed]",
      "text/plain": [
       "<Figure size 1000x500 with 1 Axes>"
      ]
     },
     "metadata": {},
     "output_type": "display_data"
    }
   ],
   "source": [
    "def cluster_Wcss(data, k ):\n",
    "\n",
    "    wcss = []\n",
    "\n",
    "    for i in range(1, k):\n",
    "        kmeans = KMeans(n_clusters= i, init='k-means++', random_state=0)\n",
    "        \n",
    "        #metode perhitungan euclid disini\n",
    "        kmeans.fit(data)\n",
    "        wcss.append(kmeans.inertia_)\n",
    "\n",
    "    plt.figure(figsize=(10,5))\n",
    "    plt.plot(range(1,11), wcss)\n",
    "    plt.title('The Elbow Curve')\n",
    "    plt.xlabel('Number of Clusters')\n",
    "    plt.ylabel('WCSS')\n",
    "    plt.show()\n",
    "\n",
    "cluster_Wcss(df, 11)"
   ]
  },
  {
   "cell_type": "markdown",
   "metadata": {
    "id": "57I9j21snnkM"
   },
   "source": [
    "terdapat metode lain yang dicari dalam kode ini yaitu\n",
    "\n",
    "1. silhouette score untuk mempertimbangkan jarak antar dalam cluster dan juga untuk meningkatkan dan memastikan clustering berkualitas baik\n",
    "\n",
    "2. Davies-Bouldin Index mengukur kualitas clustering berdasarkan jarak antar cluster dan ukuran cluster\n",
    "\n",
    "mengapa setelah metode elbow curve kita mencari menggunakan metode lain? karena terkadang elbow curve memberikan hasil yang tidak jelas, lalu metode sihoutte dan davies-bouldin membantu untuk memastikan bahwa jumlah cluster yang dipilih benar-benar optimal.\n",
    "\n",
    "dibagian bawah ini kita mencari parameter terbaik agar hasil dari clustering juga optimal\n"
   ]
  },
  {
   "cell_type": "markdown",
   "metadata": {
    "id": "dBj8ORH4nZqp"
   },
   "source": [
    "**Ekstraksi Fitur terjadi disini**\n",
    "\n",
    "Analisis Komponen Utama (PCA)\n",
    "\n",
    "Reduksi dimensi linier menggunakan Dekomposisi Nilai Singular data untuk memproyeksikannya ke ruang dimensi yang lebih rendah.\n",
    "mula mula kita mempunyai 5 kolom lalu kolom CustomerID dihapus karena tidak mengandung informasi yang relevan sehingga menyisakan 4 fitur (kolom) yaitu Gender, Age, Annual Income (k$), Spending Score (1-100) setelah itu keempat kolom akan di ekstraksi dan menyisakan 2 kolom/Fitur (P1 dan P2)"
   ]
  },
  {
   "cell_type": "code",
   "execution_count": 7,
   "metadata": {
    "id": "86IAlm4AnbwI"
   },
   "outputs": [
    {
     "data": {
      "text/html": [
       "<div>\n",
       "<style scoped>\n",
       "    .dataframe tbody tr th:only-of-type {\n",
       "        vertical-align: middle;\n",
       "    }\n",
       "\n",
       "    .dataframe tbody tr th {\n",
       "        vertical-align: top;\n",
       "    }\n",
       "\n",
       "    .dataframe thead th {\n",
       "        text-align: right;\n",
       "    }\n",
       "</style>\n",
       "<table border=\"1\" class=\"dataframe\">\n",
       "  <thead>\n",
       "    <tr style=\"text-align: right;\">\n",
       "      <th></th>\n",
       "      <th>P1</th>\n",
       "      <th>P2</th>\n",
       "    </tr>\n",
       "  </thead>\n",
       "  <tbody>\n",
       "    <tr>\n",
       "      <th>0</th>\n",
       "      <td>-31.869945</td>\n",
       "      <td>-33.001252</td>\n",
       "    </tr>\n",
       "    <tr>\n",
       "      <th>1</th>\n",
       "      <td>0.764494</td>\n",
       "      <td>-56.842901</td>\n",
       "    </tr>\n",
       "    <tr>\n",
       "      <th>2</th>\n",
       "      <td>-57.408276</td>\n",
       "      <td>-13.124961</td>\n",
       "    </tr>\n",
       "    <tr>\n",
       "      <th>3</th>\n",
       "      <td>-2.168543</td>\n",
       "      <td>-53.478590</td>\n",
       "    </tr>\n",
       "    <tr>\n",
       "      <th>4</th>\n",
       "      <td>-32.174085</td>\n",
       "      <td>-30.388412</td>\n",
       "    </tr>\n",
       "  </tbody>\n",
       "</table>\n",
       "</div>"
      ],
      "text/plain": [
       "          P1         P2\n",
       "0 -31.869945 -33.001252\n",
       "1   0.764494 -56.842901\n",
       "2 -57.408276 -13.124961\n",
       "3  -2.168543 -53.478590\n",
       "4 -32.174085 -30.388412"
      ]
     },
     "execution_count": 7,
     "metadata": {},
     "output_type": "execute_result"
    }
   ],
   "source": [
    "def pca(data, n):\n",
    "\n",
    "    if type(n) == int:\n",
    "\n",
    "        pca = PCA(n_components = n )\n",
    "        pca.fit(data)\n",
    "        df_pca = pca.transform(data)\n",
    "        return df_pca\n",
    "\n",
    "    else:\n",
    "        return data\n",
    "\n",
    "df.drop('CustomerID',axis=1, inplace=True)\n",
    "\n",
    "#menyisakan 2 kolom PCA\n",
    "df_pca = pca(df, 2)\n",
    "df_pca = pd.DataFrame(df_pca, columns = ['P1','P2'])\n",
    "df_pca.head()"
   ]
  },
  {
   "cell_type": "markdown",
   "metadata": {
    "id": "xu89xZmbnfOX"
   },
   "source": [
    "P1 adalah kombinasi linear dari dan menangkap variansi terbesasr data dari kolom (Age dan Spending Score)\n",
    "\n",
    "\n",
    "P2 adalah kombinasi linear dari dan menangkap terbesar kedua, yang orthogonal (tidak berkorelasi) dengan P1\n",
    "\n",
    "mengapa hanya 2 fitur? karena dibagian ini codingannya menangkap untuk hanya mengambil 2 fitur \"df_pca = pca(df, 2)\""
   ]
  },
  {
   "cell_type": "code",
   "execution_count": 8,
   "metadata": {
    "id": "BwJXUtTGnhbn"
   },
   "outputs": [
    {
     "data": {
      "text/plain": [
       "Text(0, 0.5, 'PCA 2')"
      ]
     },
     "execution_count": 8,
     "metadata": {},
     "output_type": "execute_result"
    },
    {
     "data": {
      "image/png": "[encoded data removed]",
      "text/plain": [
       "<Figure size 640x480 with 1 Axes>"
      ]
     },
     "metadata": {},
     "output_type": "display_data"
    }
   ],
   "source": [
    "# View of the dataset after PCA\n",
    "\n",
    "plt.scatter(df_pca.P1, df_pca.P2)\n",
    "plt.xlabel('PCA 1')\n",
    "plt.ylabel('PCA 2')"
   ]
  },
  {
   "cell_type": "markdown",
   "metadata": {},
   "source": [
    "**Menentukan Parameter Terbaik untuk Klustering**\n",
    "\n",
    "sebelum memasuki klustering, kita harus menentukan parameter terbaik, didalam kodingan ini terdapat proses untuk mencari K-Means nya"
   ]
  },
  {
   "cell_type": "code",
   "execution_count": 9,
   "metadata": {
    "id": "PEnP3Dzunp9m"
   },
   "outputs": [
    {
     "data": {
      "text/html": [
       "<div>\n",
       "<style scoped>\n",
       "    .dataframe tbody tr th:only-of-type {\n",
       "        vertical-align: middle;\n",
       "    }\n",
       "\n",
       "    .dataframe tbody tr th {\n",
       "        vertical-align: top;\n",
       "    }\n",
       "\n",
       "    .dataframe thead th {\n",
       "        text-align: right;\n",
       "    }\n",
       "</style>\n",
       "<table border=\"1\" class=\"dataframe\">\n",
       "  <thead>\n",
       "    <tr style=\"text-align: right;\">\n",
       "      <th></th>\n",
       "      <th>Model</th>\n",
       "      <th>Pca</th>\n",
       "      <th>Params</th>\n",
       "      <th>Centers</th>\n",
       "      <th>Silhouette</th>\n",
       "      <th>Davies_Bouldin</th>\n",
       "    </tr>\n",
       "  </thead>\n",
       "  <tbody>\n",
       "    <tr>\n",
       "      <th>2</th>\n",
       "      <td>Kmeans</td>\n",
       "      <td>2</td>\n",
       "      <td>{'n_clusters': 5, 'init': 'k-means++', 'random...</td>\n",
       "      <td>[[-44.38675468228104, -10.050438135162862], [4...</td>\n",
       "      <td>0.552626</td>\n",
       "      <td>0.584301</td>\n",
       "    </tr>\n",
       "    <tr>\n",
       "      <th>1</th>\n",
       "      <td>Kmeans</td>\n",
       "      <td>2</td>\n",
       "      <td>{'n_clusters': 4, 'init': 'k-means++', 'random...</td>\n",
       "      <td>[[-13.540382521253395, -5.49000439276043], [41...</td>\n",
       "      <td>0.494651</td>\n",
       "      <td>0.690497</td>\n",
       "    </tr>\n",
       "    <tr>\n",
       "      <th>7</th>\n",
       "      <td>Kmeans</td>\n",
       "      <td>False</td>\n",
       "      <td>{'n_clusters': 6, 'init': 'k-means++', 'random...</td>\n",
       "      <td>[[0.4090909090909091, 44.31818181818182, 25.77...</td>\n",
       "      <td>0.451356</td>\n",
       "      <td>0.754751</td>\n",
       "    </tr>\n",
       "    <tr>\n",
       "      <th>0</th>\n",
       "      <td>Kmeans</td>\n",
       "      <td>2</td>\n",
       "      <td>{'n_clusters': 3, 'init': 'k-means++', 'random...</td>\n",
       "      <td>[[-10.226834734150389, -12.85613466828902], [4...</td>\n",
       "      <td>0.451053</td>\n",
       "      <td>0.731013</td>\n",
       "    </tr>\n",
       "    <tr>\n",
       "      <th>3</th>\n",
       "      <td>Kmeans</td>\n",
       "      <td>2</td>\n",
       "      <td>{'n_clusters': 6, 'init': 'k-means++', 'random...</td>\n",
       "      <td>[[-44.38675468228104, -10.050438135162862], [4...</td>\n",
       "      <td>0.449792</td>\n",
       "      <td>0.700036</td>\n",
       "    </tr>\n",
       "  </tbody>\n",
       "</table>\n",
       "</div>"
      ],
      "text/plain": [
       "    Model    Pca                                             Params  \\\n",
       "2  Kmeans      2  {'n_clusters': 5, 'init': 'k-means++', 'random...   \n",
       "1  Kmeans      2  {'n_clusters': 4, 'init': 'k-means++', 'random...   \n",
       "7  Kmeans  False  {'n_clusters': 6, 'init': 'k-means++', 'random...   \n",
       "0  Kmeans      2  {'n_clusters': 3, 'init': 'k-means++', 'random...   \n",
       "3  Kmeans      2  {'n_clusters': 6, 'init': 'k-means++', 'random...   \n",
       "\n",
       "                                             Centers  Silhouette  \\\n",
       "2  [[-44.38675468228104, -10.050438135162862], [4...    0.552626   \n",
       "1  [[-13.540382521253395, -5.49000439276043], [41...    0.494651   \n",
       "7  [[0.4090909090909091, 44.31818181818182, 25.77...    0.451356   \n",
       "0  [[-10.226834734150389, -12.85613466828902], [4...    0.451053   \n",
       "3  [[-44.38675468228104, -10.050438135162862], [4...    0.449792   \n",
       "\n",
       "   Davies_Bouldin  \n",
       "2        0.584301  \n",
       "1        0.690497  \n",
       "7        0.754751  \n",
       "0        0.731013  \n",
       "3        0.700036  "
      ]
     },
     "execution_count": 9,
     "metadata": {},
     "output_type": "execute_result"
    }
   ],
   "source": [
    "param_data = { 'n' : [2,'False'] }\n",
    "param_data = [dict(zip(param_data.keys(), v)) for v in itertools.product(*param_data.values())]\n",
    "\n",
    "param_model = {\n",
    "    'n_clusters': [3, 4, 5 , 6],\n",
    "    'init' : ['k-means++'],\n",
    "    'random_state' :[16]\n",
    "}\n",
    "param_model = [dict(zip(param_model.keys(), v)) for v in itertools.product(*param_model.values())]\n",
    "\n",
    "def cluster(data, param_data, param_model):\n",
    "\n",
    "    last =[]\n",
    "\n",
    "    for dp in param_data:\n",
    "\n",
    "        X = pca(data, dp['n'])\n",
    "        X = pd.DataFrame(X)\n",
    "        for mp in param_model:\n",
    "\n",
    "            model = KMeans(**mp)\n",
    "\n",
    "            y_means = model.fit_predict(X)\n",
    "            centers = model.cluster_centers_\n",
    "\n",
    "            silhouette = silhouette_score(X, y_means)\n",
    "            davies_bouldin = davies_bouldin_score(X, y_means)\n",
    "\n",
    "            res = {}\n",
    "            res['Model'] = 'Kmeans'\n",
    "            res['Random_State'] = mp['random_state']\n",
    "\n",
    "            res['Pca'] = dp['n']\n",
    "            res['Params'] = mp\n",
    "            res['Centers'] = centers\n",
    "            res['Silhouette'] = silhouette\n",
    "            res['Davies_Bouldin'] = davies_bouldin\n",
    "\n",
    "            last.append(res)\n",
    "\n",
    "    result = pd.DataFrame(last, columns=['Model','Pca','Params', 'Centers', 'Silhouette', 'Davies_Bouldin'])\n",
    "\n",
    "    return result\n",
    "\n",
    "result =  cluster(df,  param_data, param_model)\n",
    "result = result.sort_values(by=['Silhouette'], ascending=False)\n",
    "result.head()"
   ]
  },
  {
   "cell_type": "markdown",
   "metadata": {
    "id": "51-rj4uDnrza"
   },
   "source": [
    "Mengoptimalkan Proses Clustering dengan Pemilihan Parameter PCA dan K-Means"
   ]
  },
  {
   "cell_type": "code",
   "execution_count": 10,
   "metadata": {},
   "outputs": [
    {
     "data": {
      "image/png": "[encoded data removed]",
      "text/plain": [
       "<Figure size 1000x800 with 1 Axes>"
      ]
     },
     "metadata": {},
     "output_type": "display_data"
    },
    {
     "name": "stdout",
     "output_type": "stream",
     "text": [
      "  Cluster Gender                                                Age  ...  \\\n",
      "           count      mean       std  min  25%  50%  75%  max count  ...   \n",
      "0       0   23.0  0.391304  0.499011  0.0  0.0  0.0  1.0  1.0  23.0  ...   \n",
      "1       1   39.0  0.461538  0.505035  0.0  0.0  0.0  1.0  1.0  39.0  ...   \n",
      "2       2   34.0  0.558824  0.503995  0.0  0.0  1.0  1.0  1.0  34.0  ...   \n",
      "3       3   22.0  0.409091  0.503236  0.0  0.0  0.0  1.0  1.0  22.0  ...   \n",
      "4       4   82.0  0.402439  0.493407  0.0  0.0  0.0  1.0  1.0  82.0  ...   \n",
      "\n",
      "  Annual Income (k$)        Spending Score (1-100)                        \\\n",
      "                 75%    max                  count       mean        std   \n",
      "0              33.00   39.0                   23.0  20.913043  13.017167   \n",
      "1              95.00  137.0                   39.0  82.128205   9.364489   \n",
      "2              97.75  137.0                   34.0  16.764706   9.881292   \n",
      "3              32.25   39.0                   22.0  79.363636  10.504174   \n",
      "4              62.75   76.0                   82.0  49.268293   6.874625   \n",
      "\n",
      "                                   \n",
      "    min    25%   50%    75%   max  \n",
      "0   3.0   9.50  17.0  33.50  40.0  \n",
      "1  63.0  74.50  83.0  90.00  97.0  \n",
      "2   1.0  10.00  15.5  22.75  39.0  \n",
      "3  61.0  73.00  77.0  85.75  99.0  \n",
      "4  29.0  43.25  49.5  55.00  61.0  \n",
      "\n",
      "[5 rows x 33 columns]\n",
      "\n",
      "Statistik deskriptif per cluster dalam DataFrame:\n",
      "   Cluster  count_Gender  mean_Gender  std_Gender  min_Gender  25%_Gender  \\\n",
      "0        0          23.0     0.391304    0.499011         0.0         0.0   \n",
      "1        1          39.0     0.461538    0.505035         0.0         0.0   \n",
      "2        2          34.0     0.558824    0.503995         0.0         0.0   \n",
      "3        3          22.0     0.409091    0.503236         0.0         0.0   \n",
      "4        4          82.0     0.402439    0.493407         0.0         0.0   \n",
      "\n",
      "   50%_Gender  75%_Gender  max_Gender  count_Age  ...  75%_Annual Income (k$)  \\\n",
      "0         0.0         1.0         1.0       23.0  ...                   33.00   \n",
      "1         0.0         1.0         1.0       39.0  ...                   95.00   \n",
      "2         1.0         1.0         1.0       34.0  ...                   97.75   \n",
      "3         0.0         1.0         1.0       22.0  ...                   32.25   \n",
      "4         0.0         1.0         1.0       82.0  ...                   62.75   \n",
      "\n",
      "   max_Annual Income (k$)  count_Spending Score (1-100)  \\\n",
      "0                    39.0                          23.0   \n",
      "1                   137.0                          39.0   \n",
      "2                   137.0                          34.0   \n",
      "3                    39.0                          22.0   \n",
      "4                    76.0                          82.0   \n",
      "\n",
      "   mean_Spending Score (1-100)  std_Spending Score (1-100)  \\\n",
      "0                    20.913043                   13.017167   \n",
      "1                    82.128205                    9.364489   \n",
      "2                    16.764706                    9.881292   \n",
      "3                    79.363636                   10.504174   \n",
      "4                    49.268293                    6.874625   \n",
      "\n",
      "   min_Spending Score (1-100)  25%_Spending Score (1-100)  \\\n",
      "0                         3.0                        9.50   \n",
      "1                        63.0                       74.50   \n",
      "2                         1.0                       10.00   \n",
      "3                        61.0                       73.00   \n",
      "4                        29.0                       43.25   \n",
      "\n",
      "   50%_Spending Score (1-100)  75%_Spending Score (1-100)  \\\n",
      "0                        17.0                       33.50   \n",
      "1                        83.0                       90.00   \n",
      "2                        15.5                       22.75   \n",
      "3                        77.0                       85.75   \n",
      "4                        49.5                       55.00   \n",
      "\n",
      "   max_Spending Score (1-100)  \n",
      "0                        40.0  \n",
      "1                        97.0  \n",
      "2                        39.0  \n",
      "3                        99.0  \n",
      "4                        61.0  \n",
      "\n",
      "[5 rows x 33 columns]\n",
      "\n",
      "Rata-rata setiap fitur per cluster dalam DataFrame:\n",
      "   Cluster    Gender        Age  Annual Income (k$)  Spending Score (1-100)\n",
      "0        0  0.391304  45.217391           26.304348               20.913043\n",
      "1        1  0.461538  32.692308           86.538462               82.128205\n",
      "2        2  0.558824  41.647059           88.735294               16.764706\n",
      "3        3  0.409091  25.272727           25.727273               79.363636\n",
      "4        4  0.402439  42.475610           55.475610               49.268293\n",
      "\n",
      "Distribusi Age per cluster dalam DataFrame:\n",
      "   Cluster  count       mean        std   min    25%   50%    75%   max\n",
      "0        0   23.0  45.217391  13.228607  19.0  35.50  46.0  53.50  67.0\n",
      "1        1   39.0  32.692308   3.728650  27.0  30.00  32.0  35.50  40.0\n",
      "2        2   34.0  41.647059  11.058748  19.0  34.50  42.5  47.75  59.0\n",
      "3        3   22.0  25.272727   5.257030  18.0  21.25  23.5  29.75  35.0\n",
      "4        4   82.0  42.475610  16.490346  18.0  27.00  45.5  54.00  70.0\n",
      "\n",
      "Distribusi Annual Income (k$) per cluster dalam DataFrame:\n",
      "   Cluster  count       mean        std   min    25%   50%    75%    max\n",
      "0        0   23.0  26.304348   7.893811  15.0  19.50  25.0  33.00   39.0\n",
      "1        1   39.0  86.538462  16.312485  69.0  75.50  79.0  95.00  137.0\n",
      "2        2   34.0  88.735294  16.332360  71.0  78.00  85.5  97.75  137.0\n",
      "3        3   22.0  25.727273   7.566731  15.0  19.25  24.5  32.25   39.0\n",
      "4        4   82.0  55.475610   9.078839  39.0  48.00  55.5  62.75   76.0\n",
      "\n",
      "Distribusi Spending Score (1-100) per cluster dalam DataFrame:\n",
      "   Cluster  count       mean        std   min    25%   50%    75%   max\n",
      "0        0   23.0  20.913043  13.017167   3.0   9.50  17.0  33.50  40.0\n",
      "1        1   39.0  82.128205   9.364489  63.0  74.50  83.0  90.00  97.0\n",
      "2        2   34.0  16.764706   9.881292   1.0  10.00  15.5  22.75  39.0\n",
      "3        3   22.0  79.363636  10.504174  61.0  73.00  77.0  85.75  99.0\n",
      "4        4   82.0  49.268293   6.874625  29.0  43.25  49.5  55.00  61.0\n"
     ]
    }
   ],
   "source": [
    "# Mendapatkan parameter terbaik untuk KMeans dan PCA\n",
    "bp = result.Params[2]   # parameter terbaik yang telah dihitung di atas\n",
    "bn = result.Pca[2]      # parameter terbaik untuk PCA\n",
    "bc = result.Centers[2]  # titik pusat terbaik untuk clustering\n",
    "\n",
    "# Training the model with the best parameters\n",
    "X = pca(df, bn)\n",
    "X = pd.DataFrame(X, columns=['P1', 'P2'])\n",
    "\n",
    "# Melakukan clustering dengan KMeans\n",
    "model = KMeans(**bp)\n",
    "y_means = model.fit_predict(X)\n",
    "\n",
    "# Menambahkan label cluster ke dataframe\n",
    "df['Cluster'] = y_means\n",
    "\n",
    "# Visualisasi hasil clustering\n",
    "plt.figure(figsize=(10, 8))\n",
    "plt.title('K-Means with 5 clusters')\n",
    "plt.scatter(X.P1, X.P2, c=y_means, s=100)\n",
    "plt.scatter(bc[:, 0], bc[:, 1], color='red', marker='*', s=500)\n",
    "plt.xlabel('PCA 1')\n",
    "plt.ylabel('PCA 2')\n",
    "plt.show()\n",
    "\n",
    "# Melihat statistik deskriptif untuk setiap cluster\n",
    "cluster_summary = df.groupby('Cluster').describe().reset_index()\n",
    "\n",
    "# Memeriksa kolom yang ada untuk memahami struktur DataFrame\n",
    "print(cluster_summary.head())  # Cek struktur awal DataFrame sebelum manipulasi\n",
    "\n",
    "# Menamai ulang kolom dengan rapi (jika diperlukan)\n",
    "# Jika hasil describe sudah berisi multi-level kolom, kita akan membuatnya lebih sederhana\n",
    "# Misalnya, 'mean' untuk setiap kolom fitur dalam cluster\n",
    "cluster_summary.columns = ['Cluster'] + [f'{stat}_{col}' for col, stat in cluster_summary.columns[1:]]\n",
    "print(\"\\nStatistik deskriptif per cluster dalam DataFrame:\")\n",
    "print(cluster_summary)\n",
    "\n",
    "# Melihat rata-rata dari setiap fitur berdasarkan cluster dalam DataFrame\n",
    "cluster_means = df.groupby('Cluster').mean().reset_index()\n",
    "print(\"\\nRata-rata setiap fitur per cluster dalam DataFrame:\")\n",
    "print(cluster_means)\n",
    "\n",
    "# Distribusi tiap fitur (misalnya 'Age', 'Annual Income (k$)', 'Spending Score (1-100)') per cluster\n",
    "for feature in ['Age', 'Annual Income (k$)', 'Spending Score (1-100)']:  # sesuaikan dengan nama kolom yang ada\n",
    "    if feature in df.columns:\n",
    "        dist = df.groupby('Cluster')[feature].describe().reset_index()\n",
    "        print(f\"\\nDistribusi {feature} per cluster dalam DataFrame:\")\n",
    "        print(dist)\n"
   ]
  },
  {
   "cell_type": "markdown",
   "metadata": {
    "id": "pxJMaX0Wn1nW"
   },
   "source": [
    "Hasilnya adalah kita mempunyai 5 Kluster berdasarkan perhitungan parameter kodingan diatas yang dimana setiap kluster seperti ini\n",
    "\n",
    "1. kluster 0 (warna ungu)\n",
    "   Proporsi gender pria sekitar 39% dan wanita 61%, untuk usia rata rata 45 tahun, pendapatan rata rata 26,3k, dengan skor belanja rendah dibawah 40.\n",
    "   kluster 0 mewakili kelompok berpenghasilan rendah dan memiliki kebiasaan belanja yang rendah\n",
    "\n",
    "2. kluster 1 (warna biru)\n",
    "   proporsi gender pria sekitar 46% dan wanita 54%, untuk usia rata rata 32,7 tahun, pendapatan rata rata 86,5k, dengan skor belanja tinggi dengan rata rata 82,1.\n",
    "   kluster 1 mewakili berpenghasilan tinggi dan kebiasaan belanja yang tinggi\n",
    "3. kluster 2 (warna hijau gelap)\n",
    "   proporsi gender pria tinggi di 56% dan wanita 44%, untuk usia rata rata 41,6 tahun, pendapatan rata rata 88,7k, dengan skor belanja rendah dengan rata rata 16,8\n",
    "   kluster 2 mewakili berpenghasilan tinggi dan kebiasaan belanja yang rendah\n",
    "4. kluster 3 (warna hijau terang)\n",
    "   proporsi gender pria sekitar 41% dan wanita 59%, untuk usia rata rata 25,3 tahun, pendapatan rata rata 25,7k, dengan skor belanja sangat tinggi diatas 79,4\n",
    "   kluster 3 mewakili kelompok berpenghasilan rendah dan kebiasaan belanja yang tinggi\n",
    "5. kluster 4 (warna kuning)\n",
    "   proporsi gender pria sekitar 40% dan wanita 60%, untuk usia rata rata 42,5 tahun, pendapatan rata rata 55,5k, dengan skor belanja yang moderat yaitu 49,3\n",
    "   kluster 4 mewakili kelompok berpenghasilan menengah dan kebiasaan belanja yang moderat"
   ]
  },
  {
   "cell_type": "markdown",
   "metadata": {
    "id": "x5b5CGlOn8G1"
   },
   "source": [
    "**Kesimpulan**\n",
    "\n",
    "1. Dataset Mall_Customers berhasil kami kelompokkan menjadi 5 kluster berdasarkan hasil evaluasi dan perhitungan terbaik\n",
    "\n",
    "2. Hasil evaluasi menunjukkan bahwa parameter paling optimal (tertinggi) terjadi pada metode silhoutte score, parameter terbaik yang dipilih adalah 5 Kluster (K-Means) dan 2 Komponen (PCA)\n",
    "\n"
   ]
  }
 ],
 "metadata": {
  "colab": {
   "provenance": []
  },
  "kernelspec": {
   "display_name": "Python 3",
   "name": "python3"
  },
  "language_info": {
   "codemirror_mode": {
    "name": "ipython",
    "version": 3
   },
   "file_extension": ".py",
   "mimetype": "text/x-python",
   "name": "python",
   "nbconvert_exporter": "python",
   "pygments_lexer": "ipython3",
   "version": "3.13.0"
  }
 },
 "nbformat": 4,
 "nbformat_minor": 0
}
